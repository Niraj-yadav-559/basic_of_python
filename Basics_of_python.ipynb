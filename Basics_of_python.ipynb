{
  "nbformat": 4,
  "nbformat_minor": 0,
  "metadata": {
    "colab": {
      "provenance": []
    },
    "kernelspec": {
      "name": "python3",
      "display_name": "Python 3"
    },
    "language_info": {
      "name": "python"
    }
  },
  "cells": [
    {
      "cell_type": "markdown",
      "source": [
        "1. What is Python, and why is it popular?\n",
        "   Python is a high-level, interpreted programming language known for its simplicity, readability, and versatility. It was created by Guido van Rossum and first released in 1991. Python supports multiple programming paradigms, including procedural, object-oriented, and functional programming.\n",
        "\n",
        "   Python's popularity is due to several key reasons:\n",
        "\n",
        "Easy to Learn & Readable – Python has a simple syntax that resembles English, making it beginner-friendly.\n",
        "\n",
        "Versatile & Multipurpose – Used for web development, data science, automation, machine learning, and more.\n",
        "\n",
        "Large Community & Support – A vast community provides extensive documentation, tutorials, and open-source libraries.\n",
        "\n",
        "Extensive Libraries & Frameworks – Libraries like NumPy, Pandas, TensorFlow, Django, and Flask make development efficient.\n",
        "\n",
        "2. What is an interpreter in Python?\n",
        "   An interpreter in Python is a software program that executes Python code line by line rather than compiling the entire program at once. It reads Python code, translates it into machine code, and executes it immediately\n",
        "\n",
        "3. What are pre-defined keywords in Python?\n",
        "   Predefined keywords in Python are reserved words that have special meanings in the language. These keywords cannot be used as variable names, function names, or identifiers because they are part of the syntax and structure of Python.\n",
        "   ex- if, else, while, def\n",
        "\n",
        "4. Can keywords be used as variable names?\n",
        "   No we cannot use keyword for variable names.\n",
        "\n",
        "5. What is mutability in Python?\n",
        "   Mutability in Python refers to whether an object's state (data) can be changed after it is created.\n",
        "   ex- list, set\n",
        "\n",
        "6. Why are lists mutable, but tuples are immutable?\n",
        "   The key reason why lists are mutable but tuples are immutable in Python lies in their internal memory structure and intended use cases.\n",
        "\n",
        "7. What is the difference between “==” and “is” operators in Python?\n",
        "   The == (equality operator) and is (identity operator) serve different purposes in Python.\n",
        "   . Checks if two values are equal.\n",
        "   . Checks if two variables point to the same memory location.\n",
        "\n",
        "8. What are logical operators in Python?\n",
        "   Logical operators in Python are used to perform logical operations on boolean values (True or False). These operators are: AND, OR, NOT\n",
        "\n",
        "9. What is type casting in Python?\n",
        "   Type casting in Python refers to converting one data type into another. Python provides built-in functions for type casting, which can be categorized into two types:\n",
        "   Implicit Type Casting\n",
        "   Explicit Type Casting\n",
        "\n",
        "10. What is the difference between implicit and explicit type casting?\n",
        "  mplicit Casting occurs automatically without data loss.\n",
        "  Explicit Casting requires manual conversion and may result in data loss.\n",
        "\n",
        "11. What is the purpose of conditional statements in Python?\n",
        "  Conditional statements in Python control the flow of execution based on certain conditions. They allow the program to make decisions and execute different code blocks depending on whether a condition is True or False.\n",
        "\n",
        "12. How does the elif statement work?\n",
        "   The elif (short for else if) statement allows checking multiple conditions sequentially. If the first if condition is False, Python checks the elif conditions one by one. The first elif condition that evaluates to True gets executed, and the rest are skipped.\n",
        "\n",
        "13. What is the difference between for and while loops?\n",
        "   for Loop\twhile Loop\n",
        "Definition\tUsed for iterating over a sequence (list, tuple, string, etc.).\tRepeats a block of code as long as a condition is True.\n",
        "Usage\tBest for situations where the number of iterations is known.\tBest when the number of iterations is unknown and depends on a condition.\n",
        "Control\tIterates over items in a sequence or range automatically.\tRequires manual condition checking and updating inside the loop.\n",
        "Performance\tMore efficient when looping through sequences.\tMay be less efficient if not handled properly.\n",
        "Termination\tEnds when the loop completes iterating over the sequence.\tEnds when the specified condition becomes False.\n",
        "\n",
        "14. Describe a scenario where a while loop is more suitable than a for loop.?\n",
        "   Imagine you are developing a user authentication system where the user has unlimited attempts until they enter the correct password. The number of attempts is unknown beforehand, making a while loop the best choice.\n",
        "   "
      ],
      "metadata": {
        "id": "6v7NnYw2n6tF"
      }
    },
    {
      "cell_type": "markdown",
      "source": [],
      "metadata": {
        "id": "CQJNujVatQQf"
      }
    },
    {
      "cell_type": "markdown",
      "source": [
        "1.  Write a Python program to print \"Hello, World!y"
      ],
      "metadata": {
        "id": "Pib5CdiZtIxh"
      }
    },
    {
      "cell_type": "markdown",
      "source": [],
      "metadata": {
        "id": "vslbJ-ijtgiI"
      }
    },
    {
      "cell_type": "code",
      "source": [
        "print(\"Hello, World!y\")"
      ],
      "metadata": {
        "colab": {
          "base_uri": "https://localhost:8080/"
        },
        "id": "vEyqsp6rtKPj",
        "outputId": "2eb5fa63-0d10-44d2-daff-fcb38ec2207b"
      },
      "execution_count": 1,
      "outputs": [
        {
          "output_type": "stream",
          "name": "stdout",
          "text": [
            "Hello, World!y\n"
          ]
        }
      ]
    },
    {
      "cell_type": "markdown",
      "source": [],
      "metadata": {
        "id": "70aUYrimtu_L"
      }
    },
    {
      "cell_type": "markdown",
      "source": [
        " 2. Write a Python program that displays your name and age"
      ],
      "metadata": {
        "id": "S71mFNyhth2n"
      }
    },
    {
      "cell_type": "code",
      "source": [
        "name = \"Niraj Kumar\"\n",
        "print(name)\n",
        "age = 21\n",
        "print(age)"
      ],
      "metadata": {
        "colab": {
          "base_uri": "https://localhost:8080/"
        },
        "id": "sFpieb8ntkmF",
        "outputId": "900d8476-8f85-43e2-d8ab-0427e0914fa7"
      },
      "execution_count": 2,
      "outputs": [
        {
          "output_type": "stream",
          "name": "stdout",
          "text": [
            "Niraj Kumar\n",
            "21\n"
          ]
        }
      ]
    },
    {
      "cell_type": "markdown",
      "source": [
        "3.  Write code to print all the pre-defined keywords in Python using the keyword library"
      ],
      "metadata": {
        "id": "JVdPKT7Kt238"
      }
    },
    {
      "cell_type": "code",
      "source": [
        "import keyword\n",
        "\n",
        "# Print all Python keywords\n",
        "print(keyword.kwlist)"
      ],
      "metadata": {
        "colab": {
          "base_uri": "https://localhost:8080/"
        },
        "id": "faze6yDnt58W",
        "outputId": "64ea80cc-6b53-4595-c789-cf096d6bbc8f"
      },
      "execution_count": 3,
      "outputs": [
        {
          "output_type": "stream",
          "name": "stdout",
          "text": [
            "['False', 'None', 'True', 'and', 'as', 'assert', 'async', 'await', 'break', 'class', 'continue', 'def', 'del', 'elif', 'else', 'except', 'finally', 'for', 'from', 'global', 'if', 'import', 'in', 'is', 'lambda', 'nonlocal', 'not', 'or', 'pass', 'raise', 'return', 'try', 'while', 'with', 'yield']\n"
          ]
        }
      ]
    },
    {
      "cell_type": "markdown",
      "source": [
        "4. Write a program that checks if a given word is a Python keyword."
      ],
      "metadata": {
        "id": "DpZYm5yMuGTs"
      }
    },
    {
      "cell_type": "code",
      "source": [
        "import keyword\n",
        "\n",
        "# Function to check if a word is a Python keyword\n",
        "def is_keyword(word):\n",
        "    return keyword.iskeyword(word)\n",
        "\n",
        "# User input\n",
        "word = input(\"Enter a word: \")\n",
        "\n",
        "# Check and display the result\n",
        "if is_keyword(word):\n",
        "    print(f\"'{word}' is a Python keyword.\")\n",
        "else:\n",
        "    print(f\"'{word}' is NOT a Python keyword.\")"
      ],
      "metadata": {
        "colab": {
          "base_uri": "https://localhost:8080/"
        },
        "id": "egt-Wb06uLWn",
        "outputId": "5f8fcc73-a6ab-4f3e-a88e-841f0b86fa6d"
      },
      "execution_count": 4,
      "outputs": [
        {
          "output_type": "stream",
          "name": "stdout",
          "text": [
            "Enter a word: let\n",
            "'let' is NOT a Python keyword.\n"
          ]
        }
      ]
    },
    {
      "cell_type": "markdown",
      "source": [
        "5. Create a list and tuple in Python, and demonstrate how attempting to change an element works differently\n",
        "for each."
      ],
      "metadata": {
        "id": "vv9Z9wYsucmt"
      }
    },
    {
      "cell_type": "code",
      "source": [
        "# Creating a List (Mutable)\n",
        "my_list = [10, 20, 30, 40]\n",
        "\n",
        "# Creating a Tuple (Immutable)\n",
        "my_tuple = (10, 20, 30, 40)\n",
        "my_list[1] = 25  # Changing the second element\n",
        "print(\"Modified List:\", my_list)"
      ],
      "metadata": {
        "colab": {
          "base_uri": "https://localhost:8080/"
        },
        "id": "X6bUdjF9ufFb",
        "outputId": "2e5de4f3-9572-48af-d744-5cf48ee678ee"
      },
      "execution_count": 5,
      "outputs": [
        {
          "output_type": "stream",
          "name": "stdout",
          "text": [
            "Modified List: [10, 25, 30, 40]\n"
          ]
        }
      ]
    },
    {
      "cell_type": "markdown",
      "source": [
        "6."
      ],
      "metadata": {
        "id": "8fhlTbbKuzoB"
      }
    },
    {
      "cell_type": "markdown",
      "source": [],
      "metadata": {
        "id": "wgNBi4ZKtuvi"
      }
    },
    {
      "cell_type": "code",
      "source": [],
      "metadata": {
        "id": "vjEs1mtctBFQ"
      },
      "execution_count": null,
      "outputs": []
    },
    {
      "cell_type": "code",
      "execution_count": null,
      "metadata": {
        "id": "xxqY9PJYnreq"
      },
      "outputs": [],
      "source": []
    }
  ]
}