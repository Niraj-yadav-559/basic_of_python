{
  "nbformat": 4,
  "nbformat_minor": 0,
  "metadata": {
    "colab": {
      "provenance": []
    },
    "kernelspec": {
      "name": "python3",
      "display_name": "Python 3"
    },
    "language_info": {
      "name": "python"
    }
  },
  "cells": [
    {
      "cell_type": "markdown",
      "source": [
        "1. What is Object-Oriented Programming (OOP)?\n",
        "  \n",
        "   Object-Oriented Programming (OOP) in Python is a programming paradigm that uses objects and classes to organize code. It focuses on creating reusable, modular code by implementing concepts like encapsulation, inheritance, and polymorphism."
      ],
      "metadata": {
        "id": "OvMjG96GtkIy"
      }
    },
    {
      "cell_type": "markdown",
      "source": [
        "2. What is a class in OOP?\n",
        "\n",
        "  Blueprint for Objects: Defines what attributes (data) and methods (functions) the objects will have."
      ],
      "metadata": {
        "id": "7_WXa3f6uMz9"
      }
    },
    {
      "cell_type": "markdown",
      "source": [
        "3.  What is an object in OOP?\n",
        "\n",
        "   Key Characteristics of an Object:\n",
        "  Instance of a Class: Created from a class blueprint\n",
        "\n",
        "  State: Represented by attributes/properties (data)\n",
        "\n",
        "  Behavior: Defined by methods (functions)\n",
        "\n",
        "  Identity: Unique existence (even with identical data)"
      ],
      "metadata": {
        "id": "0UssSkLTuP27"
      }
    },
    {
      "cell_type": "markdown",
      "source": [
        "4. What is the difference between abstraction and encapsulation?\n",
        "\n",
        "  Abstraction and encapsulation are two fundamental but distinct concepts in Object-Oriented Programming that often get confused. Here's a clear comparison:\n",
        "\n",
        "  Abstraction\n",
        "  Focus: Hiding complex implementation details and showing only essential features.\n",
        "\n",
        "  Key Points:\n",
        "  What it does: Simplifies complex reality by modeling appropriate classes\n",
        "\n",
        "  Level: High-level design concept\n",
        "\n",
        "  Purpose: Reduce complexity by hiding unnecessary details\n",
        "\n",
        "  Implementation: Achieved through abstract classes and interfaces\n",
        "\n",
        "  Analogy: Car dashboard (shows speed but hides engine mechanics)\n",
        "\n",
        "  Encapsulation\n",
        "  Focus: Bundling data and methods that operate on that data, and restricting access.\n",
        "\n",
        "  Key Points:\n",
        "  What it does: Protects an object's internal state\n",
        "\n",
        "  Level: Implementation-level concept\n",
        "\n",
        "  Purpose: Prevent accidental modification of data\n",
        "\n",
        "  Implementation: Achieved through access modifiers (private/protected)\n",
        "\n",
        "  Analogy: Medicine capsule (hides contents but provides functionality)"
      ],
      "metadata": {
        "id": "qNVDl4WAwYGj"
      }
    },
    {
      "cell_type": "markdown",
      "source": [
        "5. What are dunder methods in Python?\n",
        "\n",
        "  under methods (short for \"double underscore\") are special predefined methods in Python that start and end with double underscores (__method__). They allow you to define how objects behave with Python's built-in operations like arithmetic, comparison, iteration, etc."
      ],
      "metadata": {
        "id": "P-Ar_O-Sw9-W"
      }
    },
    {
      "cell_type": "markdown",
      "source": [
        "6. Explain the concept of inheritance in OOP?\n",
        "\n",
        "   nheritance is an OOP mechanism where a new class (called a subclass or child class) acquires properties and behaviors (methods) from an existing class (called a superclass or parent class). This establishes an \"is-a\" relationship between classes.\n",
        "\n",
        "  Key Characteristics\n",
        "  Code Reusability: Eliminates redundant code by inheriting existing functionality.\n",
        "\n",
        "  Hierarchical Structure: Creates logical class relationships (parent → child).\n",
        "\n",
        "  Method Overriding: Subclasses can redefine inherited methods.\n",
        "\n",
        "  Extensibility: Subclasses can add new features beyond the parent class.\n",
        "\n",
        "  Types of Inheritance\n",
        "  Single Inheritance: A subclass inherits from one parent class.\n",
        "\n",
        "  Multiple Inheritance: A subclass inherits from multiple parent classes.\n",
        "\n",
        "  Multilevel Inheritance: A subclass inherits from another subclass (forming a chain).\n",
        "\n",
        "  Hierarchical Inheritance: Multiple subclasses inherit from one parent class.\n",
        "\n",
        "  Hybrid Inheritance: Combines multiple and multilevel inheritance."
      ],
      "metadata": {
        "id": "Io326bNUxOf-"
      }
    },
    {
      "cell_type": "markdown",
      "source": [
        "7. What is polymorphism in OOP?\n",
        "  \n",
        "  Polymorphism (from Greek poly = many, morph = forms) is an OOP concept that allows objects of different classes to be treated as objects of a common superclass while exhibiting different behaviors based on their actual class. It enables one interface with multiple implementations.\n",
        "\n"
      ],
      "metadata": {
        "id": "KpGTB0lmxz15"
      }
    },
    {
      "cell_type": "markdown",
      "source": [
        "8. How is encapsulation achieved in Python?\n",
        "   \n",
        "   1. Using Private Variables (Name Mangling)\n",
        "     Python doesn't have true \"private\" members, but it supports name mangling (adding _ClassName prefix) to make attributes harder to access accidentally.\n",
        "   2. Using Protected Variables (Convention)\n",
        "      A single underscore (_) indicates a protected member (should not be accessed outside the class, but Python doesn't enforce it).\n",
        "    \n",
        "\n",
        "  "
      ],
      "metadata": {
        "id": "3Ms0WC8dyBOX"
      }
    },
    {
      "cell_type": "markdown",
      "source": [
        "9. What is a constructor in Python?\n",
        "\n",
        "  A constructor is a special method in Python classes that is automatically called when an object is created. It initializes the object's state by assigning values to instance variables.\n",
        "\n"
      ],
      "metadata": {
        "id": "4VoiZpKxydyt"
      }
    },
    {
      "cell_type": "markdown",
      "source": [
        "10. What are class and static methods in Python?\n",
        "\n",
        "   Both @classmethod and @staticmethod are decorators that define special types of methods in Python classes, but they serve different purposes.\n",
        "\n",
        "  1. Class Methods (@classmethod)\n",
        "  Key Features:\n",
        "  Bound to the class (not the instance).\n",
        "\n",
        "  First parameter is cls (refers to the class itself).\n",
        "\n",
        "  Can modify class state (change class-level variables).\n",
        "\n",
        "  Used as alternative constructors (factory methods).\n",
        "\n",
        "  2. Static Methods (@staticmethod)\n",
        "  Key Features:\n",
        "  Not bound to the class or instance (no self or cls).\n",
        "\n",
        "  Cannot modify class or instance state (acts like a regular function).\n",
        "\n",
        "  Used for utility functions related to the class."
      ],
      "metadata": {
        "id": "xiiZVMpOyra3"
      }
    },
    {
      "cell_type": "markdown",
      "source": [
        "11.  What is method overloading in Python?\n",
        "\n",
        "    Method overloading is an OOP concept where multiple methods can have the same name but different parameters (type, number, or order). Unlike languages like Java or C++, Python does not natively support traditional method overloading, but it provides alternative ways to achieve similar functionality."
      ],
      "metadata": {
        "id": "dOMPVdJEzI5K"
      }
    },
    {
      "cell_type": "markdown",
      "source": [
        "12. What is method overriding in OOP?\n",
        "\n",
        "   Method overriding is a key OOP concept where a subclass provides a specific implementation of a method that is already defined in its parent class. This allows the subclass to modify or extend the behavior of inherited methods while keeping the same method signature (name and parameters).\n",
        "\n"
      ],
      "metadata": {
        "id": "aH6rWBwFzYwM"
      }
    },
    {
      "cell_type": "markdown",
      "source": [
        "13. What is a property decorator in Python?\n",
        "   \n",
        "   The @property decorator is a Python feature that allows you to define methods that act like attributes, enabling controlled access to instance variables. It is part of Python's built-in property() function and is widely used to implement getters, setters, and deleters in an elegant way.\n",
        "\n"
      ],
      "metadata": {
        "id": "Cq9r_vuVzmdD"
      }
    },
    {
      "cell_type": "markdown",
      "source": [
        "14. Why is polymorphism important in OOP?\n",
        "   \n",
        "   Polymorphism is a cornerstone of OOP that enables flexible, reusable, and maintainable code. Here’s why it’s indispensable in modern software development:\n",
        "\n",
        "  1. Code Reusability & DRY Principle\n",
        "  Eliminates redundant code: Write one interface (e.g., draw()) that works across multiple classes (e.g., Circle, Square).\n",
        "  \n",
        "  2. Extensibility & Open/Closed Principle\n",
        "  Open for extension: Add new classes (e.g., Triangle) without modifying existing code.\n",
        "\n",
        "  Closed for modification: Existing functions (e.g., render_shape()) work unchanged."
      ],
      "metadata": {
        "id": "4RUXQDmyz9oT"
      }
    },
    {
      "cell_type": "markdown",
      "source": [
        "15. What is an abstract class in Python?\n",
        "\n",
        "   An abstract class is a class that cannot be instantiated and serves as a blueprint for other classes. It defines a common interface (methods/properties) that must be implemented by its subclasses, enforcing structure while allowing flexibility in implementation."
      ],
      "metadata": {
        "id": "CMMY9NXs0rbS"
      }
    },
    {
      "cell_type": "markdown",
      "source": [
        "16. What are the advantages of OOP?\n",
        "\n",
        "  Object-Oriented Programming (OOP) is a programming paradigm that organizes software design around objects and classes rather than functions and logic. OOP isn't a formally defined term, but it could refer to advanced or enhanced OOP concepts, modern OOP practices, or OOP combined with other paradigms. Here are some key advantages of OOP and its extended concepts (OOP+):\n",
        "\n",
        "  1. Encapsulation (Data Hiding)\n",
        "  Advantage: Protects an object's internal state by restricting direct access and exposing only necessary methods.\n",
        "\n",
        "  OOP Enhancement: Improved with access modifiers (private, protected, public) and properties/getters-setters for controlled access.\n",
        "\n",
        "  2. Inheritance (Code Reusability)\n",
        "  Advantage: Allows classes to inherit properties and methods from a parent class, reducing redundancy.\n",
        "\n",
        "  OOP Enhancement: Supports multiple inheritance (via interfaces/mixins in some languages) and composition over inheritance for better flexibility.\n",
        "\n",
        "  3. Polymorphism (Flexibility)\n",
        "  Advantage: Enables a single interface to represent different underlying forms (method overriding, overloading).\n",
        "\n",
        "  OOP Enhancement: Supports dynamic dispatch, interfaces, and generics for more adaptable code.\n",
        "\n",
        "  4. Abstraction (Simplification)\n",
        "  Advantage: Hides complex implementation details, exposing only essential features.\n",
        "\n",
        "  OOP Enhancement: Uses abstract classes, interfaces, and design patterns (e.g., Strategy, Factory) for cleaner architecture.\n",
        "\n"
      ],
      "metadata": {
        "id": "0N0kgV2k1Gfx"
      }
    },
    {
      "cell_type": "markdown",
      "source": [
        "17. H What is the difference between a class variable and an instance variable?\n",
        "\n",
        "  In object-oriented programming (OOP), class variables and instance variables serve different purposes and have distinct behaviors. Here’s a detailed comparison:\n",
        "\n",
        "  1. Definition & Scope\n",
        "  Feature\tClass Variable (Static Variable)\tInstance Variable (Non-Static)\n",
        "  Definition\tDeclared at the class level with a static keyword (in Java/C#) or directly in the class (Python).\tDeclared inside a class but outside methods, unique to each object.\n",
        "  Scope\tShared across all instances of the class.\tUnique to each instance (object) of the class.\n",
        "  2. Memory Allocation\n",
        "  Feature\tClass Variable\tInstance Variable\n",
        "  Memory\tAllocated once when the class is loaded (in static memory).\tAllocated per object when instantiated (heap memory).\n",
        "  Lifetime\tExists as long as the class is loaded in memory.\tExists as long as the object exists (garbage-collected when unused).\n",
        "  3. Access & Modification\n",
        "  Feature\tClass Variable\tInstance Variable\n",
        "  Access\tCan be accessed via class name (e.g., ClassName.var) or object (not recommended).\tCan only be accessed via an object (e.g., obj.var).\n",
        "  Modification\tChanging it affects all instances.\tChanging it affects only that instance.\n",
        "  4. Use Cases\n",
        "  Feature\tClass Variable\tInstance Variable\n",
        "  When to Use\tFor shared data (e.g., constants, counters, configuration).\tFor object-specific data (e.g., name, age, object state)."
      ],
      "metadata": {
        "id": "fiTks6aS3AOA"
      }
    },
    {
      "cell_type": "markdown",
      "source": [
        "18. What is multiple inheritance in Python?\n",
        "\n",
        "   Multiple inheritance is a feature where a class can inherit from more than one parent class, combining their attributes and methods. Python fully supports multiple inheritance, unlike some languages (e.g., Java, which uses interfaces instead).\n",
        "\n"
      ],
      "metadata": {
        "id": "rBsbuT0-3cXL"
      }
    },
    {
      "cell_type": "markdown",
      "source": [
        "19. Explain the purpose of ‘’__str__’ and ‘__repr__’ ‘ methods in PythonH?\n",
        "   \n",
        "   These dunder (double underscore) methods control how objects are converted to strings, but they serve different roles:\n",
        "\n",
        "  1. __str__ (For Users)\n",
        "  Purpose: Provide a human-readable, informal string representation.\n",
        "\n",
        "  Used When:\n",
        "\n",
        "  print(obj) is called.\n",
        "\n",
        "  str(obj) is used (e.g., in f-strings).\n",
        "\n",
        "    2. __repr__ (For Developers)\n",
        "  Purpose: Return an unambiguous, technical string representation (ideally, valid Python code to recreate the object).\n",
        "\n",
        "  Used When:\n",
        "\n",
        "  repr(obj) is called.\n",
        "\n",
        "  The object is displayed in the REPL (interactive console).\n",
        "\n",
        "  __str__ is missing (fallback)."
      ],
      "metadata": {
        "id": "klVPJdy83py9"
      }
    },
    {
      "cell_type": "markdown",
      "source": [
        "20.  What is the significance of the ‘super()’ function in Python?\n",
        "\n",
        "    The super() function in Python is a powerful mechanism for accessing and delegating to parent class methods, especially in inheritance hierarchies. It plays a crucial role in method overriding, cooperative multiple inheritance, and maintaining clean OOP design."
      ],
      "metadata": {
        "id": "0C8phU-d4Qlv"
      }
    },
    {
      "cell_type": "markdown",
      "source": [
        "21. What is the significance of the __del__ method in Python?\n",
        "\n",
        "   The __del__ method is a destructor in Python, automatically invoked when an object is about to be destroyed (garbage-collected). While it exists, its use is discouraged in most cases due to Python's automatic memory management. However, it can be helpful in specific scenarios."
      ],
      "metadata": {
        "id": "en2IgzeQ4nKK"
      }
    },
    {
      "cell_type": "markdown",
      "source": [
        "22.  What is the difference between @staticmethod and @classmethod in Python?\n",
        "\n",
        "      Key Differences Between @classmethod and @staticmethod\n",
        "  Feature\t@classmethod\t@staticmethod\n",
        "  First Argument\tcls (class reference)\tNo implicit argument (just regular args)\n",
        "  Access Class State?\tYes (can modify class variables)\tNo (no access to class/instance)\n",
        "  Use Case\tFactory methods, class-level logic\tPure utility functions (math ops, helpers)\n",
        "  Callable Via\tClass or instance (Class.method() or obj.method())\tSame (but no cls/self)\n",
        "  Inheritance Impact\tRespects inheritance (uses subclass cls)\tIgnores inheritance (static)\n",
        "  When to Use Which?\n",
        "  @classmethod → When you need class-level operations (e.g., alternate constructors).\n",
        "\n",
        "  @staticmethod → For standalone functions logically grouped in a class (e.g., MathUtils.sqrt(x)).\n",
        "\n"
      ],
      "metadata": {
        "id": "mUt4w4C642mA"
      }
    },
    {
      "cell_type": "markdown",
      "source": [
        "23. How does polymorphism work in Python with inheritance?\n",
        "\n",
        "  Polymorphism in Python allows objects of different classes to be treated as objects of a common superclass, enabling flexible and reusable code. It works primarily through method overriding and duck typing.\n",
        "\n",
        "  1. Polymorphism via Inheritance (Method Overriding)\n",
        "  When a child class redefines a method from its parent class, Python dynamically selects the appropriate method at runtime.\n",
        "\n",
        "  "
      ],
      "metadata": {
        "id": "vGj0Fchp5gBS"
      }
    },
    {
      "cell_type": "markdown",
      "source": [
        "24. H What is method chaining in Python OOP?\n",
        "  \n",
        "   Method chaining is a technique where multiple methods are called on an object in a single statement, with each method returning self (or another object) to enable further calls. It leads to fluent, readable code and is widely used in libraries like pandas, SQLAlchemy, and matplotlib.\n",
        "\n"
      ],
      "metadata": {
        "id": "s99DjTtG5qsr"
      }
    },
    {
      "cell_type": "markdown",
      "source": [
        "25. What is the purpose of the __call__ method in Python?\n",
        "\n",
        "   The __call__ method allows an object to be called like a function. When defined, you can use the syntax obj() to invoke __call__, making instances behave as callables."
      ],
      "metadata": {
        "id": "Bv-XJICs51lE"
      }
    },
    {
      "cell_type": "code",
      "source": [
        "#1.  Create a parent class Animal with a method speak() that prints a generic message. Create a child class Dog that overrides the speak() method to print \"Bark!\".\n",
        "class Animal:\n",
        "    def speak(self):\n",
        "        print(\"Generic animal sound\")\n",
        "\n",
        "class Dog(Animal):\n",
        "    def speak(self):  # Overrides Animal.speak()\n",
        "        print(\"Bark!\")\n",
        "\n",
        "# Usage\n",
        "animal = Animal()\n",
        "animal.speak()  # Output: \"Generic animal sound\"\n",
        "\n",
        "dog = Dog()\n",
        "dog.speak()     # Output: \"Bark!\""
      ],
      "metadata": {
        "colab": {
          "base_uri": "https://localhost:8080/"
        },
        "id": "Izdxj8726EJ2",
        "outputId": "3a06a252-067e-4528-bfb6-d1e8d3b82d5f"
      },
      "execution_count": 1,
      "outputs": [
        {
          "output_type": "stream",
          "name": "stdout",
          "text": [
            "Generic animal sound\n",
            "Bark!\n"
          ]
        }
      ]
    },
    {
      "cell_type": "code",
      "source": [
        "# 2. Write a program to create an abstract class Shape with a method area(). Derive classes Circle and Rectanglefrom it and implement the area() method in both.\n",
        "from abc import ABC, abstractmethod\n",
        "\n",
        "# Abstract Base Class\n",
        "class Shape(ABC):\n",
        "    @abstractmethod\n",
        "    def area(self):\n",
        "        pass  # No implementation; must be overridden by child classes\n",
        "\n",
        "# Concrete Subclass 1: Circle\n",
        "class Circle(Shape):\n",
        "    def __init__(self, radius):\n",
        "        self.radius = radius\n",
        "\n",
        "    def area(self):\n",
        "        return 3.14159 * self.radius ** 2  # πr²\n",
        "\n",
        "# Concrete Subclass 2: Rectangle\n",
        "class Rectangle(Shape):\n",
        "    def __init__(self, length, width):\n",
        "        self.length = length\n",
        "        self.width = width\n",
        "\n",
        "    def area(self):\n",
        "        return self.length * self.width  # l × w\n",
        "\n",
        "# Usage\n",
        "circle = Circle(5)\n",
        "rectangle = Rectangle(4, 6)\n",
        "\n",
        "print(f\"Circle Area: {circle.area()}\")      # Output: Circle Area: 78.53975\n",
        "print(f\"Rectangle Area: {rectangle.area()}\") # Output: Rectangle Area: 24"
      ],
      "metadata": {
        "colab": {
          "base_uri": "https://localhost:8080/"
        },
        "id": "EjA1KKVv6f1W",
        "outputId": "7e95f33b-4364-4f91-913c-64b4cd1acf62"
      },
      "execution_count": 2,
      "outputs": [
        {
          "output_type": "stream",
          "name": "stdout",
          "text": [
            "Circle Area: 78.53975\n",
            "Rectangle Area: 24\n"
          ]
        }
      ]
    },
    {
      "cell_type": "code",
      "source": [
        "# 3. Implement a multi-level inheritance scenario where a class Vehicle has an attribute type. Derive a class Car and further derive a class ElectricCar that adds a battery attribute.\n",
        "class Vehicle:\n",
        "    def __init__(self, type):\n",
        "        self.type = type  # e.g., \"Land\", \"Water\", \"Air\"\n",
        "\n",
        "    def display_type(self):\n",
        "        print(f\"Vehicle Type: {self.type}\")\n",
        "\n",
        "class Car(Vehicle):\n",
        "    def __init__(self, type, brand):\n",
        "        super().__init__(type)  # Initialize Vehicle's attributes\n",
        "        self.brand = brand\n",
        "\n",
        "    def display_brand(self):\n",
        "        print(f\"Brand: {self.brand}\")\n",
        "\n",
        "class ElectricCar(Car):\n",
        "    def __init__(self, type, brand, battery_capacity):\n",
        "        super().__init__(type, brand)  # Initialize Car's attributes\n",
        "        self.battery_capacity = battery_capacity  # in kWh\n",
        "\n",
        "    def display_battery(self):\n",
        "        print(f\"Battery Capacity: {self.battery_capacity} kWh\")\n",
        "\n",
        "# Usage\n",
        "tesla = ElectricCar(\"Land\", \"Tesla\", 75)\n",
        "\n",
        "tesla.display_type()     # Output: Vehicle Type: Land (from Vehicle)\n",
        "tesla.display_brand()    # Output: Brand: Tesla (from Car)\n",
        "tesla.display_battery()  # Output: Battery Capacity: 75 kWh (from ElectricCar)"
      ],
      "metadata": {
        "colab": {
          "base_uri": "https://localhost:8080/"
        },
        "id": "v8ZgdOaG6zIm",
        "outputId": "0105b6f2-8dac-4b1d-daad-5e2743387966"
      },
      "execution_count": 3,
      "outputs": [
        {
          "output_type": "stream",
          "name": "stdout",
          "text": [
            "Vehicle Type: Land\n",
            "Brand: Tesla\n",
            "Battery Capacity: 75 kWh\n"
          ]
        }
      ]
    },
    {
      "cell_type": "code",
      "source": [
        "# 4. Demonstrate polymorphism by creating a base class Bird with a method fly(). Create two derived classes Sparrow and Penguin that override the fly() method.\n",
        "class Bird:\n",
        "    def fly(self):\n",
        "        print(\"This bird can fly\")\n",
        "\n",
        "class Sparrow(Bird):\n",
        "    def fly(self):\n",
        "        print(\"Sparrow flies swiftly!\")\n",
        "\n",
        "class Penguin(Bird):\n",
        "    def fly(self):\n",
        "        print(\"Penguins cannot fly, but they swim!\")\n",
        "\n",
        "# Polymorphic behavior\n",
        "def test_flight(bird):\n",
        "    bird.fly()  # Calls the appropriate fly() based on the object's class\n",
        "\n",
        "# Usage\n",
        "birds = [Bird(), Sparrow(), Penguin()]\n",
        "\n",
        "for bird in birds:\n",
        "    test_flight(bird)\n"
      ],
      "metadata": {
        "colab": {
          "base_uri": "https://localhost:8080/"
        },
        "id": "J3ssf3Xz7B8r",
        "outputId": "cd69b6c8-dcfd-46b5-d63d-ee6fe5449fd3"
      },
      "execution_count": 4,
      "outputs": [
        {
          "output_type": "stream",
          "name": "stdout",
          "text": [
            "This bird can fly\n",
            "Sparrow flies swiftly!\n",
            "Penguins cannot fly, but they swim!\n"
          ]
        }
      ]
    },
    {
      "cell_type": "code",
      "source": [
        "# 5. Write a program to demonstrate encapsulation by creating a class BankAccount with private attributes balance and methods to deposit, withdraw, and check balance.\n",
        "class BankAccount:\n",
        "    def __init__(self, initial_balance=0):\n",
        "        self._balance = initial_balance  # Private attribute\n",
        "\n",
        "    def deposit(self, amount):\n",
        "        if amount > 0:\n",
        "            self._balance += amount\n",
        "            print(f\"Deposited ${amount}. New balance: ${self._balance}\")\n",
        "        else:\n",
        "            print(\"Deposit amount must be positive.\")\n",
        "\n",
        "    def withdraw(self, amount):\n",
        "        if 0 < amount <= self._balance:\n",
        "            self._balance -= amount\n",
        "            print(f\"Withdrew ${amount}. Remaining balance: ${self._balance}\")\n",
        "        else:\n",
        "            print(\"Invalid withdrawal amount or insufficient funds.\")\n",
        "\n",
        "    def check_balance(self):\n",
        "        print(f\"Current balance: ${self._balance}\")\n",
        "\n",
        "# Usage\n",
        "account = BankAccount(100)\n",
        "account.deposit(50)     # Deposited $50. New balance: $150\n",
        "account.withdraw(30)     # Withdrew $30. Remaining balance: $120\n",
        "account.check_balance()  # Current balance: $120\n",
        "account.withdraw(200)    # Invalid withdrawal amount or insufficient funds."
      ],
      "metadata": {
        "colab": {
          "base_uri": "https://localhost:8080/"
        },
        "id": "uwNRsl5-7PCw",
        "outputId": "6b8187be-052a-4caa-bd07-b531bff39240"
      },
      "execution_count": 5,
      "outputs": [
        {
          "output_type": "stream",
          "name": "stdout",
          "text": [
            "Deposited $50. New balance: $150\n",
            "Withdrew $30. Remaining balance: $120\n",
            "Current balance: $120\n",
            "Invalid withdrawal amount or insufficient funds.\n"
          ]
        }
      ]
    },
    {
      "cell_type": "code",
      "source": [
        "# 6. Demonstrate runtime polymorphism using a method play() in a base class Instrument. Derive classes Guitar and Piano that implement their own version of play().\n",
        "class Instrument:\n",
        "    def play(self):\n",
        "        print(\"Playing a generic instrument\")\n",
        "\n",
        "class Guitar(Instrument):\n",
        "    def play(self):\n",
        "        print(\"Strumming guitar strings: ♪ ♫ ♬\")\n",
        "\n",
        "class Piano(Instrument):\n",
        "    def play(self):\n",
        "        print(\"Pressing piano keys: 🎹 do re mi fa sol\")\n",
        "\n",
        "# Demonstrate runtime polymorphism\n",
        "def play_instrument(instrument: Instrument):\n",
        "    instrument.play()  # Calls the appropriate version based on object's actual type\n",
        "\n",
        "# Usage\n",
        "instruments = [Instrument(), Guitar(), Piano()]\n",
        "\n",
        "for instrument in instruments:\n",
        "    play_instrument(instrument)"
      ],
      "metadata": {
        "colab": {
          "base_uri": "https://localhost:8080/"
        },
        "id": "YFEY6KhE7gOv",
        "outputId": "6899ca0b-0ff4-4ed2-a6fb-dcaebbad8b75"
      },
      "execution_count": 6,
      "outputs": [
        {
          "output_type": "stream",
          "name": "stdout",
          "text": [
            "Playing a generic instrument\n",
            "Strumming guitar strings: ♪ ♫ ♬\n",
            "Pressing piano keys: 🎹 do re mi fa sol\n"
          ]
        }
      ]
    },
    {
      "cell_type": "code",
      "source": [
        "# 7. Create a class MathOperations with a class method add_numbers() to add two numbers and a static method subtract_numbers() to subtract two numbers.\n",
        "class MathOperations:\n",
        "    @classmethod\n",
        "    def add_numbers(cls, a, b):\n",
        "        \"\"\"Class method to add two numbers\"\"\"\n",
        "        return a + b\n",
        "\n",
        "    @staticmethod\n",
        "    def subtract_numbers(a, b):\n",
        "        \"\"\"Static method to subtract two numbers\"\"\"\n",
        "        return a - b\n",
        "\n",
        "# Using the class method\n",
        "sum_result = MathOperations.add_numbers(5, 3)\n",
        "print(f\"5 + 3 = {sum_result}\")  # Output: 5 + 3 = 8\n",
        "\n",
        "# Using the static method\n",
        "difference_result = MathOperations.subtract_numbers(10, 4)\n",
        "print(f\"10 - 4 = {difference_result}\")  # Output: 10 - 4 = 6"
      ],
      "metadata": {
        "colab": {
          "base_uri": "https://localhost:8080/"
        },
        "id": "z1MgWnO-7wP6",
        "outputId": "f602c5ee-0cc9-4968-88c7-31ed47f927c3"
      },
      "execution_count": 7,
      "outputs": [
        {
          "output_type": "stream",
          "name": "stdout",
          "text": [
            "5 + 3 = 8\n",
            "10 - 4 = 6\n"
          ]
        }
      ]
    },
    {
      "cell_type": "code",
      "source": [
        "# 8. Implement a class Person with a class method to count the total number of persons created\n",
        "class Person:\n",
        "    # Class variable to keep track of count\n",
        "    _total_persons = 0\n",
        "\n",
        "    def __init__(self, name):\n",
        "        self.name = name\n",
        "        # Increment the count when a new instance is created\n",
        "        Person._total_persons += 1\n",
        "\n",
        "    @classmethod\n",
        "    def get_total_persons(cls):\n",
        "        \"\"\"Class method to return the total number of Person instances created\"\"\"\n",
        "        return cls._total_persons\n",
        "\n",
        "    def __del__(self):\n",
        "        \"\"\"Destructor to decrement count when instance is deleted\"\"\"\n",
        "        Person._total_persons -= 1\n",
        "\n",
        "# Demonstration\n",
        "print(\"Initial count:\", Person.get_total_persons())  # Output: 0\n",
        "\n",
        "p1 = Person(\"Alice\")\n",
        "p2 = Person(\"Bob\")\n",
        "p3 = Person(\"Charlie\")\n",
        "\n",
        "print(\"After creating 3 persons:\", Person.get_total_persons())  # Output: 3\n",
        "\n",
        "del p2  # Explicitly delete one instance\n",
        "print(\"After deleting one person:\", Person.get_total_persons())  # Output: 2\n",
        "\n",
        "# Create another person\n",
        "p4 = Person(\"Diana\")\n",
        "print(\"Current count:\", Person.get_total_persons())  # Output: 3"
      ],
      "metadata": {
        "colab": {
          "base_uri": "https://localhost:8080/"
        },
        "id": "ELVjTwGh77_G",
        "outputId": "09f0391d-1676-4f7e-def9-528976b8cc6c"
      },
      "execution_count": 8,
      "outputs": [
        {
          "output_type": "stream",
          "name": "stdout",
          "text": [
            "Initial count: 0\n",
            "After creating 3 persons: 3\n",
            "After deleting one person: 2\n",
            "Current count: 3\n"
          ]
        }
      ]
    },
    {
      "cell_type": "code",
      "source": [
        "# 9. Write a class Fraction with attributes numerator and denominator. Override the str method to display the fraction as \"numerator/denominator\".\n",
        "class Fraction:\n",
        "    def __init__(self, numerator, denominator):\n",
        "        \"\"\"\n",
        "        Initialize a Fraction with numerator and denominator\n",
        "\n",
        "        Args:\n",
        "            numerator (int): The numerator of the fraction\n",
        "            denominator (int): The denominator of the fraction (cannot be zero)\n",
        "        \"\"\"\n",
        "        if denominator == 0:\n",
        "            raise ValueError(\"Denominator cannot be zero\")\n",
        "        self.numerator = numerator\n",
        "        self.denominator = denominator\n",
        "\n",
        "    def __str__(self):\n",
        "        \"\"\"\n",
        "        Returns the string representation of the fraction as 'numerator/denominator'\n",
        "        \"\"\"\n",
        "        return f\"{self.numerator}/{self.denominator}\"\n",
        "\n",
        "# Example usage\n",
        "half = Fraction(1, 2)\n",
        "third = Fraction(1, 3)\n",
        "\n",
        "print(half)   # Output: 1/2\n",
        "print(third)  # Output: 1/3\n",
        "\n",
        "# This will raise ValueError\n",
        "# invalid = Fraction(1, 0)"
      ],
      "metadata": {
        "colab": {
          "base_uri": "https://localhost:8080/"
        },
        "id": "Z054sNjv8LWE",
        "outputId": "85c3417a-fd16-4caf-c4e1-148cc8c7bda4"
      },
      "execution_count": 9,
      "outputs": [
        {
          "output_type": "stream",
          "name": "stdout",
          "text": [
            "1/2\n",
            "1/3\n"
          ]
        }
      ]
    },
    {
      "cell_type": "code",
      "source": [
        "# 10. Demonstrate operator overloading by creating a class Vector and overriding the add method to add two vectors.\n",
        "class Vector:\n",
        "    def __init__(self, x, y):\n",
        "        self.x = x\n",
        "        self.y = y\n",
        "\n",
        "    # Overload the + operator\n",
        "    def __add__(self, other):\n",
        "        \"\"\"Adds two vectors component-wise\"\"\"\n",
        "        return Vector(self.x + other.x, self.y + other.y)\n",
        "\n",
        "    # String representation for printing\n",
        "    def __str__(self):\n",
        "        return f\"Vector({self.x}, {self.y})\"\n",
        "\n",
        "# Create two vectors\n",
        "v1 = Vector(2, 3)\n",
        "v2 = Vector(5, 7)\n",
        "\n",
        "# Add them using the + operator\n",
        "result = v1 + v2  # Equivalent to v1.__add__(v2)\n",
        "\n",
        "print(result)  # Output: Vector(7, 10)"
      ],
      "metadata": {
        "colab": {
          "base_uri": "https://localhost:8080/"
        },
        "id": "XLmIYout8idt",
        "outputId": "a053eb33-c51a-4546-9187-08efe81574a6"
      },
      "execution_count": 10,
      "outputs": [
        {
          "output_type": "stream",
          "name": "stdout",
          "text": [
            "Vector(7, 10)\n"
          ]
        }
      ]
    },
    {
      "cell_type": "code",
      "source": [
        "# 11. Create a class Person with attributes name and age. Add a method greet() that prints \"Hello, my name is {name} and I am {age} years old.\"\n",
        "\n",
        "class Person:\n",
        "    def __init__(self, name, age):\n",
        "        \"\"\"\n",
        "        Initialize a Person with name and age\n",
        "\n",
        "        Args:\n",
        "            name (str): The person's name\n",
        "            age (int): The person's age\n",
        "        \"\"\"\n",
        "        self.name = name\n",
        "        self.age = age\n",
        "\n",
        "    def greet(self):\n",
        "        \"\"\"\n",
        "        Prints a greeting message with the person's name and age\n",
        "        \"\"\"\n",
        "        print(f\"Hello, my name is {self.name} and I am {self.age} years old.\")\n",
        "\n",
        "# Example usage\n",
        "person1 = Person(\"Alice\", 30)\n",
        "person2 = Person(\"Bob\", 25)\n",
        "\n",
        "person1.greet()  # Output: Hello, my name is Alice and I am 30 years old.\n",
        "person2.greet()  # Output: Hello, my name is Bob and I am 25 years old.\n"
      ],
      "metadata": {
        "colab": {
          "base_uri": "https://localhost:8080/"
        },
        "id": "XlPhsSv18yxl",
        "outputId": "0bef0fb8-c85f-4dec-e2b7-174168533f49"
      },
      "execution_count": 11,
      "outputs": [
        {
          "output_type": "stream",
          "name": "stdout",
          "text": [
            "Hello, my name is Alice and I am 30 years old.\n",
            "Hello, my name is Bob and I am 25 years old.\n"
          ]
        }
      ]
    },
    {
      "cell_type": "code",
      "source": [
        "# 12. Implement a class Student with attributes name and grades. Create a method average_grade() to compute the average of the grades.\n",
        "class Student:\n",
        "    def __init__(self, name, grades=None):\n",
        "        \"\"\"\n",
        "        Initialize a Student with name and grades\n",
        "\n",
        "        Args:\n",
        "            name (str): The student's name\n",
        "            grades (list): List of grades (default empty list)\n",
        "        \"\"\"\n",
        "        self.name = name\n",
        "        self.grades = grades if grades is not None else []\n",
        "\n",
        "    def average_grade(self):\n",
        "        \"\"\"\n",
        "        Calculate the average of the student's grades\n",
        "\n",
        "        Returns:\n",
        "            float: The average grade\n",
        "        \"\"\"\n",
        "        if not self.grades:\n",
        "            return 0.0\n",
        "        return sum(self.grades) / len(self.grades)\n",
        "\n",
        "# Example usage\n",
        "student1 = Student(\"Alice\", [85, 90, 78, 92])\n",
        "student2 = Student(\"Bob\")  # No grades provided\n",
        "\n",
        "print(f\"{student1.name}'s average grade: {student1.average_grade():.2f}\")  # Output: Alice's average grade: 86.25\n",
        "print(f\"{student2.name}'s average grade: {student2.average_grade():.2f}\")  # Output: Bob's average grade: 0.00\n",
        "\n",
        "# Adding grades later\n",
        "student2.grades.extend([75, 80, 85])\n",
        "print(f\"{student2.name}'s new average: {student2.average_grade():.2f}\")  # Output: Bob's new average: 80.00"
      ],
      "metadata": {
        "colab": {
          "base_uri": "https://localhost:8080/"
        },
        "id": "FP9ZSPPl9e7P",
        "outputId": "dd3cd09d-cf60-4382-d89f-c01bdfb2ebe7"
      },
      "execution_count": 12,
      "outputs": [
        {
          "output_type": "stream",
          "name": "stdout",
          "text": [
            "Alice's average grade: 86.25\n",
            "Bob's average grade: 0.00\n",
            "Bob's new average: 80.00\n"
          ]
        }
      ]
    },
    {
      "cell_type": "code",
      "source": [
        "# 13. Create a class Rectangle with methods set_dimensions() to set the dimensions and area() to calculate the area.\n",
        "class Rectangle:\n",
        "    def __init__(self, length=0, width=0):\n",
        "        \"\"\"\n",
        "        Initialize a rectangle with optional dimensions\n",
        "\n",
        "        Args:\n",
        "            length (float): Length of the rectangle (default 0)\n",
        "            width (float): Width of the rectangle (default 0)\n",
        "        \"\"\"\n",
        "        self.length = length\n",
        "        self.width = width\n",
        "\n",
        "    def set_dimensions(self, length, width):\n",
        "        \"\"\"\n",
        "        Set the dimensions of the rectangle\n",
        "\n",
        "        Args:\n",
        "            length (float): New length\n",
        "            width (float): New width\n",
        "        \"\"\"\n",
        "        self.length = length\n",
        "        self.width = width\n",
        "\n",
        "    def area(self):\n",
        "        \"\"\"\n",
        "        Calculate the area of the rectangle\n",
        "\n",
        "        Returns:\n",
        "            float: The area (length × width)\n",
        "        \"\"\"\n",
        "        return self.length * self.width\n",
        "\n",
        "# Example usage\n",
        "rect = Rectangle()  # Create with default dimensions (0, 0)\n",
        "print(f\"Initial area: {rect.area()}\")  # Output: Initial area: 0\n",
        "\n",
        "rect.set_dimensions(5, 3)  # Set new dimensions\n",
        "print(f\"Area after setting dimensions: {rect.area()}\")  # Output: Area after setting dimensions: 15\n",
        "\n",
        "# Can also initialize with dimensions\n",
        "rect2 = Rectangle(4, 7)\n",
        "print(f\"Second rectangle area: {rect2.area()}\")  # Output: Second rectangle area: 28"
      ],
      "metadata": {
        "colab": {
          "base_uri": "https://localhost:8080/"
        },
        "id": "bZ_2wfdN9v5G",
        "outputId": "5eecca25-5178-47d1-b8a3-75c14a49062c"
      },
      "execution_count": 13,
      "outputs": [
        {
          "output_type": "stream",
          "name": "stdout",
          "text": [
            "Initial area: 0\n",
            "Area after setting dimensions: 15\n",
            "Second rectangle area: 28\n"
          ]
        }
      ]
    },
    {
      "cell_type": "code",
      "source": [
        "# 14. Create a class Employee with a method calculate_salary() that computes the salary based on hours worked and hourly rate. Create a derived class Manager that adds a bonus to the salary.\n",
        "class Employee:\n",
        "    def __init__(self, name, hourly_rate):\n",
        "        \"\"\"\n",
        "        Initialize an Employee with name and hourly rate\n",
        "\n",
        "        Args:\n",
        "            name (str): Employee name\n",
        "            hourly_rate (float): Pay per hour\n",
        "        \"\"\"\n",
        "        self.name = name\n",
        "        self.hourly_rate = hourly_rate\n",
        "\n",
        "    def calculate_salary(self, hours_worked):\n",
        "        \"\"\"\n",
        "        Calculate base salary from hours worked\n",
        "\n",
        "        Args:\n",
        "            hours_worked (float): Hours worked in pay period\n",
        "\n",
        "        Returns:\n",
        "            float: Calculated salary\n",
        "        \"\"\"\n",
        "        return self.hourly_rate * hours_worked\n",
        "\n",
        "class Manager(Employee):\n",
        "    def __init__(self, name, hourly_rate, bonus_percentage):\n",
        "        \"\"\"\n",
        "        Initialize a Manager with bonus percentage\n",
        "\n",
        "        Args:\n",
        "            name (str): Manager name\n",
        "            hourly_rate (float): Base pay per hour\n",
        "            bonus_percentage (float): Bonus as decimal (e.g., 0.1 for 10%)\n",
        "        \"\"\"\n",
        "        super().__init__(name, hourly_rate)\n",
        "        self.bonus_percentage = bonus_percentage\n",
        "\n",
        "    def calculate_salary(self, hours_worked):\n",
        "        \"\"\"\n",
        "        Calculate salary with bonus\n",
        "\n",
        "        Args:\n",
        "            hours_worked (float): Hours worked in pay period\n",
        "\n",
        "        Returns:\n",
        "            float: Base salary plus bonus\n",
        "        \"\"\"\n",
        "        base_salary = super().calculate_salary(hours_worked)\n",
        "        bonus = base_salary * self.bonus_percentage\n",
        "        return base_salary + bonus\n",
        "\n",
        "# Example usage\n",
        "regular_employee = Employee(\"John Doe\", 20.0)\n",
        "manager = Manager(\"Jane Smith\", 30.0, 0.15)  # 15% bonus\n",
        "\n",
        "print(f\"{regular_employee.name}'s salary: ${regular_employee.calculate_salary(40):.2f}\")\n",
        "# Output: John Doe's salary: $800.00\n",
        "\n",
        "print(f\"{manager.name}'s salary: ${manager.calculate_salary(40):.2f}\")\n",
        "# Output: Jane Smith's salary: $1380.00 (1200 + 180 bonus)"
      ],
      "metadata": {
        "colab": {
          "base_uri": "https://localhost:8080/"
        },
        "id": "7Ja_GKjQ-AnK",
        "outputId": "95e6a782-8f8d-42fe-8d4b-0d2d6a33d8f0"
      },
      "execution_count": 14,
      "outputs": [
        {
          "output_type": "stream",
          "name": "stdout",
          "text": [
            "John Doe's salary: $800.00\n",
            "Jane Smith's salary: $1380.00\n"
          ]
        }
      ]
    },
    {
      "cell_type": "code",
      "source": [
        "# 15. Create a class Product with attributes name, price, and quantity. Implement a method total_price() tha calculates the total price of the product.\n",
        "\n",
        "class Product:\n",
        "    def __init__(self, name, price, quantity):\n",
        "        \"\"\"\n",
        "        Initialize a Product with name, price, and quantity\n",
        "\n",
        "        Args:\n",
        "            name (str): Product name\n",
        "            price (float): Unit price\n",
        "            quantity (int): Number of units\n",
        "        \"\"\"\n",
        "        self.name = name\n",
        "        self.price = price\n",
        "        self.quantity = quantity\n",
        "\n",
        "    def total_price(self):\n",
        "        \"\"\"\n",
        "        Calculate the total price (price × quantity)\n",
        "\n",
        "        Returns:\n",
        "            float: Total price for the product\n",
        "        \"\"\"\n",
        "        return self.price * self.quantity\n",
        "\n",
        "# Example usage\n",
        "laptop = Product(\"Laptop\", 999.99, 2)\n",
        "phone = Product(\"Smartphone\", 699.50, 3)\n",
        "\n",
        "print(f\"Total for {laptop.name}: ${laptop.total_price():.2f}\")\n",
        "# Output: Total for Laptop: $1999.98\n",
        "\n",
        "print(f\"Total for {phone.name}: ${phone.total_price():.2f}\")\n",
        "# Output: Total for Smartphone: $2098.50\n"
      ],
      "metadata": {
        "colab": {
          "base_uri": "https://localhost:8080/"
        },
        "id": "qs37nfb7-U7s",
        "outputId": "4b788e03-2efb-479a-f8f6-b109a692b51f"
      },
      "execution_count": 15,
      "outputs": [
        {
          "output_type": "stream",
          "name": "stdout",
          "text": [
            "Total for Laptop: $1999.98\n",
            "Total for Smartphone: $2098.50\n"
          ]
        }
      ]
    },
    {
      "cell_type": "code",
      "source": [
        "# 16. Create a class Animal with an abstract method sound(). Create two derived classes Cow and Sheep that implement the sound() method.\n",
        "from abc import ABC, abstractmethod\n",
        "\n",
        "class Animal(ABC):\n",
        "    @abstractmethod\n",
        "    def sound(self):\n",
        "        \"\"\"Abstract method to be implemented by subclasses\"\"\"\n",
        "        pass\n",
        "\n",
        "class Cow(Animal):\n",
        "    def sound(self):\n",
        "        return \"Moo!\"\n",
        "\n",
        "class Sheep(Animal):\n",
        "    def sound(self):\n",
        "        return \"Baa!\"\n",
        "\n",
        "# Example usage\n",
        "cow = Cow()\n",
        "sheep = Sheep()\n",
        "\n",
        "print(\"Cow says:\", cow.sound())    # Output: Cow says: Moo!\n",
        "print(\"Sheep says:\", sheep.sound()) # Output: Sheep says: Baa!\n",
        "\n",
        "# This would raise an error since Animal is abstract\n",
        "# animal = Animal()"
      ],
      "metadata": {
        "colab": {
          "base_uri": "https://localhost:8080/"
        },
        "id": "OP3tiT52-wj_",
        "outputId": "0b061eb8-93d4-4abb-8898-fe724f7eaf15"
      },
      "execution_count": 16,
      "outputs": [
        {
          "output_type": "stream",
          "name": "stdout",
          "text": [
            "Cow says: Moo!\n",
            "Sheep says: Baa!\n"
          ]
        }
      ]
    },
    {
      "cell_type": "code",
      "source": [
        "# 17. Create a class Book with attributes title, author, and year_published. Add a method get_book_info() that returns a formatted string with the book's details.\n",
        "from abc import ABC, abstractmethod\n",
        "\n",
        "class Animal(ABC):\n",
        "    @abstractmethod\n",
        "    def sound(self):\n",
        "        \"\"\"Abstract method to be implemented by subclasses\"\"\"\n",
        "        pass\n",
        "\n",
        "class Cow(Animal):\n",
        "    def sound(self):\n",
        "        return \"Moo!\"\n",
        "\n",
        "class Sheep(Animal):\n",
        "    def sound(self):\n",
        "        return \"Baa!\"\n",
        "\n",
        "# Example usage\n",
        "cow = Cow()\n",
        "sheep = Sheep()\n",
        "\n",
        "print(\"Cow says:\", cow.sound())    # Output: Cow says: Moo!\n",
        "print(\"Sheep says:\", sheep.sound()) # Output: Sheep says: Baa!\n",
        "\n",
        "# This would raise an error since Animal is abstract\n",
        "# animal = Animal()"
      ],
      "metadata": {
        "colab": {
          "base_uri": "https://localhost:8080/"
        },
        "id": "vobVULey_Cuv",
        "outputId": "bf92197c-298f-4e82-d743-f2d80d798d20"
      },
      "execution_count": 17,
      "outputs": [
        {
          "output_type": "stream",
          "name": "stdout",
          "text": [
            "Cow says: Moo!\n",
            "Sheep says: Baa!\n"
          ]
        }
      ]
    },
    {
      "cell_type": "code",
      "source": [
        "#18. Create a class House with attributes address and price. Create a derived class Mansion that adds an attribute number_of_rooms.\n",
        "class House:\n",
        "    def __init__(self, address, price):\n",
        "        \"\"\"\n",
        "        Initialize a House with address and price\n",
        "\n",
        "        Args:\n",
        "            address (str): Physical address of the house\n",
        "            price (float): Asking price of the property\n",
        "        \"\"\"\n",
        "        self.address = address\n",
        "        self.price = price\n",
        "\n",
        "    def __str__(self):\n",
        "        \"\"\"String representation of the house\"\"\"\n",
        "        return f\"House at {self.address} priced at ${self.price:,.2f}\"\n",
        "\n",
        "class Mansion(House):\n",
        "    def __init__(self, address, price, number_of_rooms):\n",
        "        \"\"\"\n",
        "        Initialize a Mansion with additional rooms attribute\n",
        "\n",
        "        Args:\n",
        "            address (str): Physical address\n",
        "            price (float): Asking price\n",
        "            number_of_rooms (int): Count of rooms in the mansion\n",
        "        \"\"\"\n",
        "        super().__init__(address, price)\n",
        "        self.number_of_rooms = number_of_rooms\n",
        "\n",
        "    def __str__(self):\n",
        "        \"\"\"Enhanced string representation including rooms\"\"\"\n",
        "        return f\"Mansion at {self.address} with {self.number_of_rooms} rooms, priced at ${self.price:,.2f}\"\n",
        "\n",
        "# Example usage\n",
        "regular_house = House(\"123 Main St\", 350000)\n",
        "luxury_mansion = Mansion(\"1 Beverly Hills\", 25000000, 15)\n",
        "\n",
        "print(regular_house)\n",
        "# Output: House at 123 Main St priced at $350,000.00\n",
        "\n",
        "print(luxury_mansion)\n",
        "# Output: Mansion at 1 Beverly Hills with 15 rooms, priced at $25,000,000.00"
      ],
      "metadata": {
        "colab": {
          "base_uri": "https://localhost:8080/"
        },
        "id": "icRg50TJ_bSm",
        "outputId": "d678ae23-faad-4734-f472-2826e96c64ef"
      },
      "execution_count": 18,
      "outputs": [
        {
          "output_type": "stream",
          "name": "stdout",
          "text": [
            "House at 123 Main St priced at $350,000.00\n",
            "Mansion at 1 Beverly Hills with 15 rooms, priced at $25,000,000.00\n"
          ]
        }
      ]
    }
  ]
}